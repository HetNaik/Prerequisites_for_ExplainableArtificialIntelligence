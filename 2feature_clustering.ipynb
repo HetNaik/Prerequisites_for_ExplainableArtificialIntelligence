{
  "nbformat": 4,
  "nbformat_minor": 0,
  "metadata": {
    "colab": {
      "name": "2feature-clustering.ipynb",
      "provenance": []
    },
    "kernelspec": {
      "name": "python3",
      "display_name": "Python 3"
    }
  },
  "cells": [
    {
      "cell_type": "markdown",
      "metadata": {
        "id": "ct-_cfu6emAZ"
      },
      "source": [
        "#PROTOTYPE"
      ]
    },
    {
      "cell_type": "code",
      "metadata": {
        "id": "8nbrMcajcNtP"
      },
      "source": [
        "import pandas as pd\n",
        "data = pd.read_csv('/content/diabetes.csv')\n",
        "# data.head(5)\n",
        "diab = data.copy()\n",
        "target = 'CLASS'\n",
        "features_list = list(diab.columns)\n",
        "features_list.remove(target)"
      ],
      "execution_count": null,
      "outputs": []
    },
    {
      "cell_type": "code",
      "metadata": {
        "colab": {
          "base_uri": "https://localhost:8080/",
          "height": 417
        },
        "id": "jcymtoPveKlF",
        "outputId": "c5259283-298d-4e4c-8124-56ece64475f9"
      },
      "source": [
        "df_first_3 = data.head(100)\n",
        "df_first_3"
      ],
      "execution_count": null,
      "outputs": [
        {
          "output_type": "execute_result",
          "data": {
            "text/html": [
              "<div>\n",
              "<style scoped>\n",
              "    .dataframe tbody tr th:only-of-type {\n",
              "        vertical-align: middle;\n",
              "    }\n",
              "\n",
              "    .dataframe tbody tr th {\n",
              "        vertical-align: top;\n",
              "    }\n",
              "\n",
              "    .dataframe thead th {\n",
              "        text-align: right;\n",
              "    }\n",
              "</style>\n",
              "<table border=\"1\" class=\"dataframe\">\n",
              "  <thead>\n",
              "    <tr style=\"text-align: right;\">\n",
              "      <th></th>\n",
              "      <th>Gender</th>\n",
              "      <th>AGE</th>\n",
              "      <th>Urea</th>\n",
              "      <th>Cr</th>\n",
              "      <th>HbA1c</th>\n",
              "      <th>Chol</th>\n",
              "      <th>TG</th>\n",
              "      <th>HDL</th>\n",
              "      <th>LDL</th>\n",
              "      <th>VLDL</th>\n",
              "      <th>BMI</th>\n",
              "      <th>CLASS</th>\n",
              "    </tr>\n",
              "  </thead>\n",
              "  <tbody>\n",
              "    <tr>\n",
              "      <th>0</th>\n",
              "      <td>1</td>\n",
              "      <td>50</td>\n",
              "      <td>4.7</td>\n",
              "      <td>46</td>\n",
              "      <td>4.9</td>\n",
              "      <td>4.2</td>\n",
              "      <td>0.9</td>\n",
              "      <td>2.4</td>\n",
              "      <td>1.4</td>\n",
              "      <td>0.5</td>\n",
              "      <td>24.0</td>\n",
              "      <td>0</td>\n",
              "    </tr>\n",
              "    <tr>\n",
              "      <th>1</th>\n",
              "      <td>0</td>\n",
              "      <td>26</td>\n",
              "      <td>4.5</td>\n",
              "      <td>62</td>\n",
              "      <td>4.9</td>\n",
              "      <td>3.7</td>\n",
              "      <td>1.4</td>\n",
              "      <td>1.1</td>\n",
              "      <td>2.1</td>\n",
              "      <td>0.6</td>\n",
              "      <td>23.0</td>\n",
              "      <td>0</td>\n",
              "    </tr>\n",
              "    <tr>\n",
              "      <th>2</th>\n",
              "      <td>1</td>\n",
              "      <td>50</td>\n",
              "      <td>4.7</td>\n",
              "      <td>46</td>\n",
              "      <td>4.9</td>\n",
              "      <td>4.2</td>\n",
              "      <td>0.9</td>\n",
              "      <td>2.4</td>\n",
              "      <td>1.4</td>\n",
              "      <td>0.5</td>\n",
              "      <td>24.0</td>\n",
              "      <td>0</td>\n",
              "    </tr>\n",
              "    <tr>\n",
              "      <th>3</th>\n",
              "      <td>1</td>\n",
              "      <td>50</td>\n",
              "      <td>4.7</td>\n",
              "      <td>46</td>\n",
              "      <td>4.9</td>\n",
              "      <td>4.2</td>\n",
              "      <td>0.9</td>\n",
              "      <td>2.4</td>\n",
              "      <td>1.4</td>\n",
              "      <td>0.5</td>\n",
              "      <td>24.0</td>\n",
              "      <td>0</td>\n",
              "    </tr>\n",
              "    <tr>\n",
              "      <th>4</th>\n",
              "      <td>0</td>\n",
              "      <td>33</td>\n",
              "      <td>7.1</td>\n",
              "      <td>46</td>\n",
              "      <td>4.9</td>\n",
              "      <td>4.9</td>\n",
              "      <td>1.0</td>\n",
              "      <td>0.8</td>\n",
              "      <td>2.0</td>\n",
              "      <td>0.4</td>\n",
              "      <td>21.0</td>\n",
              "      <td>0</td>\n",
              "    </tr>\n",
              "    <tr>\n",
              "      <th>...</th>\n",
              "      <td>...</td>\n",
              "      <td>...</td>\n",
              "      <td>...</td>\n",
              "      <td>...</td>\n",
              "      <td>...</td>\n",
              "      <td>...</td>\n",
              "      <td>...</td>\n",
              "      <td>...</td>\n",
              "      <td>...</td>\n",
              "      <td>...</td>\n",
              "      <td>...</td>\n",
              "      <td>...</td>\n",
              "    </tr>\n",
              "    <tr>\n",
              "      <th>95</th>\n",
              "      <td>0</td>\n",
              "      <td>40</td>\n",
              "      <td>22.0</td>\n",
              "      <td>159</td>\n",
              "      <td>5.4</td>\n",
              "      <td>3.1</td>\n",
              "      <td>1.6</td>\n",
              "      <td>1.1</td>\n",
              "      <td>1.3</td>\n",
              "      <td>0.7</td>\n",
              "      <td>24.0</td>\n",
              "      <td>0</td>\n",
              "    </tr>\n",
              "    <tr>\n",
              "      <th>96</th>\n",
              "      <td>1</td>\n",
              "      <td>54</td>\n",
              "      <td>6.3</td>\n",
              "      <td>106</td>\n",
              "      <td>5.6</td>\n",
              "      <td>4.3</td>\n",
              "      <td>2.0</td>\n",
              "      <td>1.3</td>\n",
              "      <td>2.2</td>\n",
              "      <td>0.9</td>\n",
              "      <td>20.0</td>\n",
              "      <td>0</td>\n",
              "    </tr>\n",
              "    <tr>\n",
              "      <th>97</th>\n",
              "      <td>1</td>\n",
              "      <td>50</td>\n",
              "      <td>3.3</td>\n",
              "      <td>70</td>\n",
              "      <td>4.9</td>\n",
              "      <td>3.7</td>\n",
              "      <td>0.9</td>\n",
              "      <td>1.2</td>\n",
              "      <td>2.7</td>\n",
              "      <td>0.6</td>\n",
              "      <td>24.0</td>\n",
              "      <td>0</td>\n",
              "    </tr>\n",
              "    <tr>\n",
              "      <th>98</th>\n",
              "      <td>0</td>\n",
              "      <td>60</td>\n",
              "      <td>7.5</td>\n",
              "      <td>70</td>\n",
              "      <td>0.9</td>\n",
              "      <td>3.4</td>\n",
              "      <td>5.3</td>\n",
              "      <td>1.1</td>\n",
              "      <td>3.6</td>\n",
              "      <td>0.8</td>\n",
              "      <td>24.0</td>\n",
              "      <td>0</td>\n",
              "    </tr>\n",
              "    <tr>\n",
              "      <th>99</th>\n",
              "      <td>0</td>\n",
              "      <td>77</td>\n",
              "      <td>5.0</td>\n",
              "      <td>106</td>\n",
              "      <td>5.4</td>\n",
              "      <td>0.0</td>\n",
              "      <td>2.8</td>\n",
              "      <td>0.8</td>\n",
              "      <td>1.8</td>\n",
              "      <td>0.7</td>\n",
              "      <td>19.0</td>\n",
              "      <td>0</td>\n",
              "    </tr>\n",
              "  </tbody>\n",
              "</table>\n",
              "<p>100 rows × 12 columns</p>\n",
              "</div>"
            ],
            "text/plain": [
              "    Gender  AGE  Urea   Cr  HbA1c  Chol   TG  HDL  LDL  VLDL   BMI  CLASS\n",
              "0        1   50   4.7   46    4.9   4.2  0.9  2.4  1.4   0.5  24.0      0\n",
              "1        0   26   4.5   62    4.9   3.7  1.4  1.1  2.1   0.6  23.0      0\n",
              "2        1   50   4.7   46    4.9   4.2  0.9  2.4  1.4   0.5  24.0      0\n",
              "3        1   50   4.7   46    4.9   4.2  0.9  2.4  1.4   0.5  24.0      0\n",
              "4        0   33   7.1   46    4.9   4.9  1.0  0.8  2.0   0.4  21.0      0\n",
              "..     ...  ...   ...  ...    ...   ...  ...  ...  ...   ...   ...    ...\n",
              "95       0   40  22.0  159    5.4   3.1  1.6  1.1  1.3   0.7  24.0      0\n",
              "96       1   54   6.3  106    5.6   4.3  2.0  1.3  2.2   0.9  20.0      0\n",
              "97       1   50   3.3   70    4.9   3.7  0.9  1.2  2.7   0.6  24.0      0\n",
              "98       0   60   7.5   70    0.9   3.4  5.3  1.1  3.6   0.8  24.0      0\n",
              "99       0   77   5.0  106    5.4   0.0  2.8  0.8  1.8   0.7  19.0      0\n",
              "\n",
              "[100 rows x 12 columns]"
            ]
          },
          "metadata": {
            "tags": []
          },
          "execution_count": 17
        }
      ]
    },
    {
      "cell_type": "code",
      "metadata": {
        "id": "SpEUjWnQokZD",
        "outputId": "adb15715-b35c-4f0c-92e0-b652d290a083",
        "colab": {
          "base_uri": "https://localhost:8080/",
          "height": 560
        }
      },
      "source": [
        "diab[:].hist(bins=40, edgecolor='b', linewidth=1.0,\n",
        "                          xlabelsize=8, ylabelsize=8, grid=False, \n",
        "                          figsize=(16,6), color='red')    \n",
        "plt.tight_layout(rect=(0, 0, 1.2, 1.2))   \n",
        "plt.suptitle('diab', x=0.65, y=1.25, fontsize=14);"
      ],
      "execution_count": null,
      "outputs": [
        {
          "output_type": "display_data",
          "data": {
            "image/png": "[encoded data removed]",
            "text/plain": [
              "<Figure size 1152x432 with 12 Axes>"
            ]
          },
          "metadata": {
            "tags": [],
            "needs_background": "light"
          }
        }
      ]
    },
    {
      "cell_type": "code",
      "metadata": {
        "colab": {
          "base_uri": "https://localhost:8080/",
          "height": 319
        },
        "id": "KMJ2sruFj1Vo",
        "outputId": "84b9079a-4b31-4d14-f828-026dc63e2715"
      },
      "source": [
        "# gapminder = pd.read_csv('http://bit.ly/2cLzoxH')\n",
        "df1 = data[['HbA1c', 'BMI','CLASS']]\n",
        "heatmap1_data = pd.pivot_table(df1, values='CLASS', index=['HbA1c'], columns='BMI')\n",
        "sns.heatmap(heatmap1_data, cmap=\"magma\")"
      ],
      "execution_count": null,
      "outputs": [
        {
          "output_type": "execute_result",
          "data": {
            "text/plain": [
              "<matplotlib.axes._subplots.AxesSubplot at 0x7f8171bd8190>"
            ]
          },
          "metadata": {
            "tags": []
          },
          "execution_count": 65
        },
        {
          "output_type": "display_data",
          "data": {
            "image/png": "[encoded data removed]",
            "text/plain": [
              "<Figure size 432x288 with 2 Axes>"
            ]
          },
          "metadata": {
            "tags": [],
            "needs_background": "light"
          }
        }
      ]
    },
    {
      "cell_type": "code",
      "metadata": {
        "id": "RJzkP9XWirnO"
      },
      "source": [
        "import numpy as np\n",
        "import pylab\n",
        "import matplotlib.pyplot as plt\n",
        "import seaborn as sns\n",
        "import pandas as pd\n",
        "import tensorflow as tf\n",
        "from sklearn import datasets\n",
        "from sklearn.decomposition import PCA\n",
        "from sklearn.preprocessing import StandardScaler\n",
        "from sklearn.manifold import TSNE\n",
        "from sklearn.datasets import load_digits\n",
        "from scipy.stats import norm\n",
        "import time\n",
        "import keras\n",
        "from keras.layers import Conv2D, Conv2DTranspose, Input, Flatten, Dense, Lambda, Reshape\n",
        "from keras.layers import BatchNormalization\n",
        "from keras.models import Model\n",
        "from keras.datasets import mnist\n",
        "from keras.losses import binary_crossentropy\n",
        "from keras import backend as K"
      ],
      "execution_count": null,
      "outputs": []
    },
    {
      "cell_type": "code",
      "metadata": {
        "id": "oJksa1aUi5YF"
      },
      "source": [
        "data_X=diab[features_list]\n",
        "data_y=diab['CLASS']"
      ],
      "execution_count": null,
      "outputs": []
    },
    {
      "cell_type": "code",
      "metadata": {
        "colab": {
          "base_uri": "https://localhost:8080/",
          "height": 279
        },
        "id": "nRrr_K2ripG0",
        "outputId": "5ab80f72-b6fb-46a5-afb6-950e43da3dd2"
      },
      "source": [
        "tsne = TSNE(n_components=2, random_state=0)\n",
        "tsne_obj= tsne.fit_transform(data_X)\n",
        "tsne_df = pd.DataFrame({'X':tsne_obj[:,0],\n",
        "                        'Y':tsne_obj[:,1],\n",
        "                        'digit':data_y})\n",
        "\n",
        "sns.scatterplot(x=\"X\", y=\"Y\",\n",
        "              hue=\"digit\",\n",
        "              palette=['green','red','blue'],  \n",
        "              legend='brief',\n",
        "              data=tsne_df);"
      ],
      "execution_count": null,
      "outputs": [
        {
          "output_type": "display_data",
          "data": {
            "image/png": "[encoded data removed]",
            "text/plain": [
              "<Figure size 432x288 with 1 Axes>"
            ]
          },
          "metadata": {
            "tags": [],
            "needs_background": "light"
          }
        }
      ]
    },
    {
      "cell_type": "code",
      "metadata": {
        "id": "bFq8nVFcJl5i"
      },
      "source": [
        "x = data.iloc[:, [0,1,2,3,4,5,6,7,8,9,10]].values\n",
        "from sklearn.cluster import KMeans\n",
        "import matplotlib.pyplot as plt\n",
        "\n",
        "kmeans = KMeans(n_clusters = 3, init = 'k-means++', max_iter = 300, n_init = 10, random_state = 0)\n",
        "y_kmeans = kmeans.fit_predict(x)"
      ],
      "execution_count": null,
      "outputs": []
    },
    {
      "cell_type": "code",
      "metadata": {
        "colab": {
          "base_uri": "https://localhost:8080/"
        },
        "id": "0xMrN9yAibCn",
        "outputId": "fb845104-3a9e-4280-a15f-c9bf586eb681"
      },
      "source": [
        "x"
      ],
      "execution_count": null,
      "outputs": [
        {
          "output_type": "execute_result",
          "data": {
            "text/plain": [
              "array([[ 1. , 50. ,  4.7, ...,  1.4,  0.5, 24. ],\n",
              "       [ 0. , 26. ,  4.5, ...,  2.1,  0.6, 23. ],\n",
              "       [ 1. , 50. ,  4.7, ...,  1.4,  0.5, 24. ],\n",
              "       ...,\n",
              "       [ 0. , 30. ,  7.1, ...,  2.4,  8.1, 27.4],\n",
              "       [ 0. , 38. ,  5.8, ...,  2.9, 14. , 40.5],\n",
              "       [ 0. , 54. ,  5. , ...,  3. ,  0.7, 33. ]])"
            ]
          },
          "metadata": {
            "tags": []
          },
          "execution_count": 48
        }
      ]
    },
    {
      "cell_type": "code",
      "metadata": {
        "colab": {
          "base_uri": "https://localhost:8080/"
        },
        "id": "cO1lvXeihgdf",
        "outputId": "90e8418c-f4f7-45e0-8764-715a00e3e269"
      },
      "source": [
        "ans=0\n",
        "# int(data.iloc[:, [11]].values[0]),y_kmeans[0]\n",
        "for i in range(len(x)):\n",
        "  if int(data.iloc[:, [11]].values[i])==y_kmeans[i]:\n",
        "    ans+=1\n",
        "ans/len(x)"
      ],
      "execution_count": null,
      "outputs": [
        {
          "output_type": "execute_result",
          "data": {
            "text/plain": [
              "0.031"
            ]
          },
          "metadata": {
            "tags": []
          },
          "execution_count": 45
        }
      ]
    },
    {
      "cell_type": "code",
      "metadata": {
        "colab": {
          "base_uri": "https://localhost:8080/"
        },
        "id": "EPU8LBVFcs75",
        "outputId": "786e4f7b-0f54-4d92-9332-66ddc869ed57"
      },
      "source": [
        "x,y_kmeans"
      ],
      "execution_count": null,
      "outputs": [
        {
          "output_type": "execute_result",
          "data": {
            "text/plain": [
              "(array([[ 1. , 50. ,  4.7, ...,  1.4,  0.5, 24. ],\n",
              "        [ 0. , 26. ,  4.5, ...,  2.1,  0.6, 23. ],\n",
              "        [ 1. , 50. ,  4.7, ...,  1.4,  0.5, 24. ],\n",
              "        ...,\n",
              "        [ 0. , 30. ,  7.1, ...,  2.4,  8.1, 27.4],\n",
              "        [ 0. , 38. ,  5.8, ...,  2.9, 14. , 40.5],\n",
              "        [ 0. , 54. ,  5. , ...,  3. ,  0.7, 33. ]]),\n",
              " array([3, 3, 3, 3, 3, 3, 3, 3, 3, 3, 3, 3, 3, 3, 3, 0, 3, 3, 3, 3, 0, 0,\n",
              "        3, 3, 3, 3, 0, 0, 3, 3, 0, 3, 3, 0, 3, 3, 3, 3, 0, 3, 3, 3, 3, 3,\n",
              "        3, 0, 3, 3, 3, 3, 3, 3, 3, 3, 3, 3, 3, 3, 3, 3, 3, 3, 0, 3, 3, 3,\n",
              "        3, 3, 3, 3, 3, 3, 3, 3, 3, 3, 3, 0, 3, 3, 0, 0, 3, 0, 3, 3, 3, 0,\n",
              "        0, 0, 0, 0, 3, 0, 0, 0, 0, 3, 3, 0, 3, 0, 0, 0, 0, 0, 3, 3, 3, 3,\n",
              "        0, 3, 0, 3, 3, 3, 0, 3, 3, 3, 3, 3, 3, 3, 0, 3, 0, 3, 3, 3, 3, 3,\n",
              "        3, 3, 3, 3, 3, 3, 3, 3, 3, 3, 3, 3, 3, 3, 3, 3, 3, 3, 3, 2, 0, 0,\n",
              "        0, 0, 3, 0, 3, 3, 0, 3, 0, 0, 0, 3, 3, 0, 0, 0, 3, 3, 3, 3, 3, 3,\n",
              "        3, 3, 3, 3, 3, 3, 3, 3, 3, 3, 0, 0, 3, 0, 3, 3, 0, 0, 0, 3, 0, 0,\n",
              "        0, 0, 0, 3, 3, 0, 3, 3, 3, 3, 2, 3, 3, 3, 2, 3, 3, 3, 0, 3, 0, 0,\n",
              "        3, 0, 3, 3, 0, 0, 3, 3, 3, 0, 3, 0, 3, 3, 0, 3, 0, 3, 0, 0, 0, 0,\n",
              "        0, 0, 0, 0, 0, 3, 3, 0, 3, 3, 3, 3, 3, 0, 0, 0, 3, 0, 0, 3, 3, 0,\n",
              "        3, 3, 0, 0, 3, 0, 0, 0, 3, 1, 0, 3, 0, 3, 3, 3, 3, 3, 3, 1, 3, 3,\n",
              "        3, 0, 3, 3, 3, 3, 3, 3, 3, 3, 3, 0, 3, 0, 3, 3, 3, 0, 3, 0, 3, 0,\n",
              "        3, 0, 0, 3, 3, 3, 3, 3, 0, 3, 3, 3, 3, 3, 3, 0, 3, 3, 2, 3, 3, 3,\n",
              "        3, 0, 3, 3, 3, 3, 2, 3, 3, 0, 0, 3, 3, 3, 3, 3, 3, 3, 3, 3, 0, 0,\n",
              "        3, 0, 3, 3, 3, 3, 3, 3, 3, 3, 3, 3, 3, 3, 3, 3, 3, 3, 0, 0, 3, 3,\n",
              "        3, 0, 0, 3, 3, 3, 0, 3, 0, 3, 0, 0, 3, 3, 3, 0, 3, 3, 3, 0, 0, 3,\n",
              "        0, 0, 0, 3, 0, 0, 3, 3, 0, 0, 0, 0, 3, 3, 3, 3, 0, 3, 3, 0, 3, 3,\n",
              "        3, 3, 3, 3, 3, 3, 0, 3, 3, 0, 3, 0, 3, 0, 3, 3, 3, 0, 3, 0, 3, 3,\n",
              "        0, 0, 3, 3, 3, 0, 3, 3, 0, 3, 3, 3, 3, 3, 3, 3, 3, 3, 0, 3, 3, 3,\n",
              "        3, 3, 0, 3, 3, 3, 3, 0, 0, 3, 0, 3, 3, 3, 0, 0, 3, 3, 3, 3, 3, 3,\n",
              "        0, 0, 0, 0, 0, 3, 0, 3, 3, 0, 3, 3, 0, 3, 3, 3, 3, 3, 2, 3, 3, 0,\n",
              "        3, 3, 3, 3, 3, 3, 3, 3, 0, 3, 0, 0, 3, 3, 3, 0, 3, 3, 3, 3, 0, 3,\n",
              "        0, 0, 3, 3, 3, 0, 3, 3, 0, 3, 3, 3, 3, 3, 0, 3, 3, 3, 3, 3, 3, 0,\n",
              "        3, 3, 3, 3, 0, 3, 3, 3, 3, 3, 3, 3, 3, 3, 3, 3, 0, 3, 0, 3, 0, 3,\n",
              "        3, 3, 0, 0, 3, 3, 3, 3, 3, 0, 3, 0, 0, 3, 3, 0, 3, 2, 2, 3, 2, 3,\n",
              "        0, 3, 0, 0, 0, 3, 3, 3, 0, 3, 3, 3, 0, 0, 3, 3, 3, 0, 3, 3, 3, 3,\n",
              "        3, 3, 3, 3, 3, 0, 3, 3, 3, 3, 3, 3, 3, 3, 3, 3, 3, 3, 3, 3, 3, 3,\n",
              "        3, 3, 3, 0, 0, 0, 0, 3, 3, 3, 0, 0, 0, 3, 0, 3, 3, 3, 3, 3, 3, 3,\n",
              "        3, 3, 3, 3, 3, 3, 0, 3, 3, 3, 3, 3, 3, 3, 3, 0, 3, 3, 3, 3, 0, 3,\n",
              "        0, 0, 3, 0, 3, 3, 0, 0, 0, 3, 3, 3, 3, 3, 0, 3, 3, 3, 3, 3, 3, 0,\n",
              "        3, 3, 3, 3, 3, 2, 3, 3, 0, 3, 0, 0, 3, 3, 3, 3, 3, 3, 3, 3, 3, 3,\n",
              "        3, 0, 0, 0, 3, 0, 3, 0, 0, 0, 3, 3, 3, 3, 3, 3, 0, 3, 3, 0, 3, 0,\n",
              "        0, 0, 3, 3, 3, 3, 3, 0, 3, 3, 3, 3, 3, 3, 3, 3, 3, 3, 3, 3, 3, 3,\n",
              "        3, 3, 0, 3, 3, 3, 0, 3, 3, 3, 3, 3, 3, 3, 3, 3, 3, 3, 3, 3, 3, 3,\n",
              "        3, 3, 3, 3, 3, 3, 3, 0, 3, 3, 0, 0, 3, 3, 0, 2, 3, 3, 3, 0, 3, 3,\n",
              "        3, 3, 3, 0, 3, 3, 3, 0, 0, 3, 0, 3, 3, 3, 3, 3, 3, 3, 3, 3, 3, 0,\n",
              "        0, 3, 3, 3, 3, 3, 0, 3, 3, 0, 1, 3, 3, 0, 3, 3, 3, 3, 3, 0, 3, 3,\n",
              "        3, 0, 1, 3, 0, 3, 3, 3, 3, 3, 3, 0, 0, 3, 3, 3, 0, 3, 3, 3, 3, 3,\n",
              "        3, 3, 0, 3, 3, 3, 3, 0, 3, 3, 0, 3, 2, 3, 3, 3, 3, 0, 3, 3, 0, 3,\n",
              "        3, 3, 3, 3, 3, 3, 3, 3, 3, 3, 3, 3, 3, 0, 3, 0, 0, 3, 3, 3, 3, 3,\n",
              "        3, 3, 3, 0, 0, 3, 3, 3, 0, 3, 0, 0, 3, 0, 3, 3, 3, 3, 3, 3, 0, 3,\n",
              "        3, 3, 3, 3, 3, 0, 0, 0, 3, 0, 3, 3, 3, 0, 0, 0, 0, 0, 0, 0, 3, 0,\n",
              "        0, 0, 3, 3, 0, 3, 0, 0, 3, 0, 3, 3, 0, 0, 0, 0, 3, 0, 3, 3, 0, 0,\n",
              "        3, 3, 3, 3, 0, 0, 3, 0, 3, 3], dtype=int32))"
            ]
          },
          "metadata": {
            "tags": []
          },
          "execution_count": 46
        }
      ]
    },
    {
      "cell_type": "code",
      "metadata": {
        "colab": {
          "base_uri": "https://localhost:8080/"
        },
        "id": "2F7c6rE1hGi7",
        "outputId": "0fa401e1-4d3a-4013-bf5a-270a65b89ab5"
      },
      "source": [
        "x[0,0]"
      ],
      "execution_count": null,
      "outputs": [
        {
          "output_type": "execute_result",
          "data": {
            "text/plain": [
              "1.0"
            ]
          },
          "metadata": {
            "tags": []
          },
          "execution_count": 30
        }
      ]
    },
    {
      "cell_type": "code",
      "metadata": {
        "colab": {
          "base_uri": "https://localhost:8080/"
        },
        "id": "JHfm_Gfpg3Nj",
        "outputId": "a6101dd7-2f77-48f5-dbdb-25c51cb300d7"
      },
      "source": [
        "x[y_kmeans == 0, 0]"
      ],
      "execution_count": null,
      "outputs": [
        {
          "output_type": "execute_result",
          "data": {
            "text/plain": [
              "array([1., 0., 1., 1., 0., 1., 1., 0., 0., 1., 1., 1., 1., 1., 1., 0., 1.,\n",
              "       1., 1., 1., 1., 1., 0., 1., 1., 0., 0., 0., 1., 1., 0., 0., 1., 1.,\n",
              "       1., 1., 0., 0., 1., 1., 1., 0., 0., 1., 0., 0., 0., 1., 1., 0., 1.,\n",
              "       0., 1., 1., 1., 1., 1., 1., 1., 1., 0., 0., 0., 1., 0., 1., 1., 0.,\n",
              "       1., 0., 0., 1., 1., 1., 0., 1., 0., 1., 1., 1., 1., 1., 0., 0., 0.,\n",
              "       1., 1., 1., 0., 0., 1., 1., 1., 0., 1., 1., 0., 0., 1., 1., 0., 0.,\n",
              "       0., 0., 0., 0., 1., 0., 0., 0., 0., 0., 0., 1., 0., 1., 0., 0., 1.,\n",
              "       1., 0., 1., 0., 1., 0., 0., 0., 1., 1., 1., 0., 0., 0., 1., 1., 1.,\n",
              "       1., 0., 0., 0., 0., 0., 0., 0., 1., 0., 1., 0., 0., 0., 0., 0., 1.,\n",
              "       0., 0., 0., 0., 0., 0., 0., 0., 0., 0., 0., 0., 0., 0., 1., 1., 1.,\n",
              "       0., 1., 0., 1., 1., 0., 0., 1., 1., 1., 0., 1., 0., 0., 0., 0., 0.,\n",
              "       0., 1., 0., 0., 0., 0., 0., 0., 0., 1., 1., 1., 1., 0., 1., 1., 1.,\n",
              "       1., 1., 1., 1., 1., 1., 1., 0., 0., 1., 0., 0., 0., 1., 1., 0., 1.,\n",
              "       0., 0., 0., 1., 0., 1., 0., 0., 1., 1., 0., 1., 0., 0., 0., 0., 0.,\n",
              "       0., 0., 0., 0., 1., 1., 0., 1., 0., 1., 0., 1., 0., 0., 1., 0., 1.,\n",
              "       0., 0., 1., 1., 1., 1., 0., 0., 1., 0., 1., 0., 1., 1., 0., 0., 0.,\n",
              "       0., 0., 0., 0., 1., 0., 0., 1., 0., 0., 1., 1., 1., 1., 1., 1., 0.,\n",
              "       0., 0., 0., 0., 0., 1., 0., 1., 1., 0., 1., 0., 1., 0., 1., 1., 1.,\n",
              "       0., 0., 0., 0., 1., 0., 0., 0., 0., 0., 1., 1., 1., 0., 0., 1., 1.,\n",
              "       1., 1., 1., 0., 1., 0., 1., 1., 0., 0., 0., 1., 0., 0., 0., 0., 0.,\n",
              "       1., 0., 0., 0., 0., 0., 0., 1., 1., 0., 0., 1., 1., 1., 1., 1., 0.,\n",
              "       0., 1., 0., 0., 1., 0., 1., 0., 0., 1., 0., 1., 1., 0., 0., 0., 0.,\n",
              "       1., 0., 0., 1., 0., 0., 0., 1., 1., 1., 0., 0., 1., 0., 0., 0., 0.,\n",
              "       0., 0., 0., 0., 0., 0., 1., 1., 1., 1., 0., 1., 1., 0., 1., 1., 0.,\n",
              "       0., 0., 0., 1., 0., 1., 1., 0., 0., 0., 0., 0., 0., 1., 0., 0., 0.,\n",
              "       0., 1., 1., 0., 0., 0., 0., 1., 1., 0., 0., 1., 1., 0., 1., 0., 1.,\n",
              "       1., 0., 0., 0., 1., 1., 1., 1., 0., 1., 1., 0., 1., 0., 0., 0., 0.,\n",
              "       0., 0., 1., 0., 0., 1., 1., 1., 0., 0., 0., 0., 1., 0., 0., 0., 0.,\n",
              "       1., 0., 0., 1., 1., 0., 1., 1., 0., 0., 1., 0., 1., 0., 0., 0., 0.,\n",
              "       0., 0., 0., 1., 0., 1., 0., 0., 0., 1., 1., 1., 0., 0., 1., 1., 1.,\n",
              "       1., 1., 0., 0., 0., 0., 0., 1., 0., 1., 1., 0., 0., 0., 0., 0., 0.,\n",
              "       0., 1., 0., 0., 0., 0., 0., 1., 1., 1., 0., 0., 1., 1., 1., 0., 0.,\n",
              "       1., 0., 0., 1., 0., 0., 1., 0., 0., 1., 0., 0., 1., 0., 0., 0., 1.,\n",
              "       1., 1., 0., 0., 1., 1., 1., 1., 1., 0., 1., 0., 0., 1., 1., 1., 0.,\n",
              "       0., 0., 0., 0., 0., 1., 1., 0., 1., 1., 0., 1., 0., 0., 0., 1., 1.,\n",
              "       0., 1., 1., 0., 1., 1., 1., 1., 1., 1., 1., 1., 0., 1., 1., 0., 0.,\n",
              "       0., 1., 0., 0., 0., 1., 0., 0., 1., 0., 0., 1., 1., 0., 0., 1., 0.,\n",
              "       0., 0., 0., 0., 0., 0., 0., 0., 0., 1., 0., 0., 0., 1., 0., 1., 1.,\n",
              "       1., 1., 0., 1., 0., 0., 1., 1., 1., 0., 1., 0., 1., 0., 0., 1., 0.,\n",
              "       1., 1., 0., 0., 0., 1., 0., 0., 0., 0., 0., 0., 0., 1., 1., 1., 1.,\n",
              "       0., 0., 1., 0., 0., 0., 0., 1., 1., 0., 0., 1., 0., 0., 1., 0., 1.,\n",
              "       0., 1., 0., 0., 0., 0., 0., 1., 1., 0., 1., 0., 0., 0., 1., 1., 1.,\n",
              "       0., 0., 0., 0., 1., 0., 1., 1., 1., 1., 1., 1., 0., 0., 1., 1., 0.,\n",
              "       1., 0., 0., 0., 0., 1., 1., 1., 1., 1., 0., 0., 1., 1., 1., 0., 0.,\n",
              "       0., 1., 0., 1., 0., 0., 1., 1., 0., 0., 0., 0., 1., 0., 1., 0., 0.,\n",
              "       1., 1., 1., 0., 0., 1., 1., 1., 1., 0., 0., 1., 0., 0., 0., 0., 1.,\n",
              "       1., 1., 0., 0., 0., 0., 0., 1., 0., 0., 1., 0., 1., 0., 1., 0., 1.,\n",
              "       1., 1., 0., 1., 0., 0., 0., 0., 0., 0., 0., 1., 0., 0., 0., 1., 1.,\n",
              "       1., 0., 0., 0., 1., 0., 1., 0., 1., 1., 1., 0., 0., 0., 0., 0., 0.,\n",
              "       0., 1., 0., 1., 0., 1., 1., 0., 0., 1., 0., 1., 1., 1., 0., 1., 1.,\n",
              "       0., 0., 0., 0., 1., 1., 1., 1., 0., 0., 0., 1., 1., 0., 1., 0., 1.,\n",
              "       0., 0., 0., 0., 0., 1., 1., 0., 0., 0., 1., 0., 1., 0., 1., 0., 0.,\n",
              "       1., 1., 0., 1., 1., 1., 0., 0., 0., 1., 1., 1., 1., 1., 1., 1., 1.,\n",
              "       0., 1., 0., 0., 0., 0., 0., 0., 0., 1., 1., 1., 0., 0., 0., 1., 0.,\n",
              "       1., 0., 1., 0., 1., 1., 1., 0., 1., 0., 1., 0., 0., 0., 0., 1., 1.,\n",
              "       0., 1., 1., 1., 1., 1., 1., 0., 0., 0., 0., 0., 0., 1., 0., 0., 0.,\n",
              "       0., 1., 0., 1., 0., 0., 1., 0., 1., 1., 0., 0., 0., 0., 1., 1., 0.,\n",
              "       0., 0., 0., 0., 0., 0.])"
            ]
          },
          "metadata": {
            "tags": []
          },
          "execution_count": 28
        }
      ]
    },
    {
      "cell_type": "code",
      "metadata": {
        "colab": {
          "base_uri": "https://localhost:8080/"
        },
        "id": "QFFbqQ0KhAy0",
        "outputId": "e3429217-1f41-49ad-a1eb-07be3cb51743"
      },
      "source": [
        "x[y_kmeans == 0, 1]"
      ],
      "execution_count": null,
      "outputs": [
        {
          "output_type": "execute_result",
          "data": {
            "text/plain": [
              "array([50., 26., 50., 50., 33., 45., 50., 48., 43., 32., 31., 33., 30.,\n",
              "       45., 50., 50., 50., 30., 49., 49., 42., 33., 50., 39., 30., 30.,\n",
              "       41., 33., 44., 48., 47., 36., 42., 47., 39., 38., 46., 44., 41.,\n",
              "       45., 44., 33., 43., 33., 49., 31., 49., 44., 47., 44., 45., 43.,\n",
              "       47., 50., 50., 49., 50., 49., 44., 48., 47., 47., 44., 35., 40.,\n",
              "       35., 42., 59., 31., 40., 41., 41., 43., 44., 59., 35., 51., 30.,\n",
              "       50., 57., 50., 35., 63., 36., 50., 25., 40., 40., 50., 30., 60.,\n",
              "       77., 44., 40., 54., 50., 60., 77., 59., 57., 38., 34., 34., 34.,\n",
              "       31., 31., 43., 42., 47., 50., 49., 50., 49., 49., 50., 49., 42.,\n",
              "       50., 49., 39., 50., 39., 49., 39., 50., 33., 50., 30., 33., 30.,\n",
              "       50., 33., 50., 50., 49., 33., 50., 50., 49., 50., 50., 50., 50.,\n",
              "       55., 40., 40., 35., 41., 43., 54., 30., 39., 48., 31., 30., 45.,\n",
              "       45., 45., 31., 45., 30., 30., 35., 35., 45., 45., 45., 50., 50.,\n",
              "       48., 38., 46., 45., 54., 54., 43., 49., 49., 45., 47., 38., 42.,\n",
              "       39., 30., 40., 38., 30., 46., 45., 33., 40., 40., 50., 33., 40.,\n",
              "       40., 63., 63., 44., 49., 42., 44., 33., 48., 48., 47., 48., 33.,\n",
              "       33., 48., 33., 34., 43., 28., 42., 47., 39., 39., 49., 50., 56.,\n",
              "       51., 52., 56., 59., 52., 56., 56., 51., 59., 54., 69., 54., 60.,\n",
              "       54., 69., 57., 55., 57., 54., 55., 60., 60., 60., 73., 61., 51.,\n",
              "       61., 55., 55., 73., 73., 63., 51., 63., 73., 55., 55., 52., 55.,\n",
              "       51., 57., 55., 55., 57., 52., 55., 51., 60., 56., 61., 73., 55.,\n",
              "       56., 55., 60., 53., 73., 54., 53., 61., 60., 54., 66., 66., 52.,\n",
              "       52., 61., 55., 56., 55., 56., 55., 55., 56., 66., 66., 56., 55.,\n",
              "       59., 55., 59., 54., 66., 56., 56., 60., 57., 54., 54., 56., 57.,\n",
              "       54., 60., 59., 60., 55., 61., 51., 63., 60., 55., 51., 55., 61.,\n",
              "       51., 63., 55., 55., 51., 61., 55., 55., 58., 55., 54., 58., 54.,\n",
              "       55., 55., 55., 55., 55., 53., 55., 55., 53., 58., 56., 61., 61.,\n",
              "       56., 55., 60., 60., 55., 52., 56., 51., 52., 59., 68., 55., 51.,\n",
              "       56., 59., 68., 55., 54., 54., 59., 55., 57., 77., 54., 77., 55.,\n",
              "       54., 57., 55., 60., 54., 54., 54., 55., 55., 54., 55., 55., 60.,\n",
              "       55., 55., 60., 55., 55., 55., 60., 61., 61., 63., 63., 55., 55.,\n",
              "       52., 55., 55., 52., 55., 55., 55., 55., 51., 61., 58., 66., 54.,\n",
              "       55., 62., 55., 54., 51., 60., 53., 52., 61., 60., 52., 56., 54.,\n",
              "       60., 58., 55., 55., 59., 61., 54., 57., 54., 60., 55., 60., 61.,\n",
              "       55., 63., 55., 52., 51., 58., 55., 54., 51., 58., 63., 53., 61.,\n",
              "       54., 60., 53., 52., 56., 55., 59., 53., 55., 54., 54., 57., 54.,\n",
              "       57., 60., 60., 60., 61., 57., 63., 55., 52., 55., 63., 63., 58.,\n",
              "       56., 52., 51., 55., 55., 58., 55., 54., 58., 53., 52., 55., 61.,\n",
              "       51., 52., 51., 55., 56., 56., 55., 59., 64., 56., 54., 57., 54.,\n",
              "       60., 60., 61., 54., 60., 60., 63., 55., 66., 52., 51., 55., 58.,\n",
              "       56., 55., 55., 54., 53., 68., 61., 53., 60., 52., 60., 51., 55.,\n",
              "       53., 63., 56., 59., 54., 55., 57., 54., 53., 51., 60., 60., 61.,\n",
              "       55., 63., 55., 55., 52., 51., 55., 58., 55., 55., 64., 55., 55.,\n",
              "       54., 53., 56., 55., 67., 61., 56., 60., 52., 56., 59., 54., 57.,\n",
              "       54., 60., 67., 60., 61., 63., 52., 54., 51., 58., 52., 51., 61.,\n",
              "       59., 67., 55., 58., 55., 60., 60., 54., 53., 61., 62., 55., 51.,\n",
              "       63., 55., 57., 60., 70., 79., 54., 66., 52., 68., 56., 55., 59.,\n",
              "       54., 54., 66., 62., 57., 57., 54., 76., 54., 53., 76., 55., 60.,\n",
              "       60., 61., 51., 54., 56., 63., 55., 59., 59., 54., 55., 52., 55.,\n",
              "       51., 60., 51., 51., 55., 62., 58., 67., 55., 54., 55., 55., 53.,\n",
              "       55., 59., 56., 61., 60., 55., 59., 55., 61., 54., 54., 63., 52.,\n",
              "       51., 56., 59., 54., 57., 54., 51., 60., 60., 60., 62., 67., 61.,\n",
              "       63., 55., 55., 55., 66., 68., 60., 66., 55., 55., 63., 52., 51.,\n",
              "       58., 55., 56., 56., 55., 54., 55., 61., 60., 52., 60., 60., 56.,\n",
              "       56., 55., 64., 58., 59., 54., 57., 54., 55., 58., 60., 60., 55.,\n",
              "       60., 61., 55., 59., 63., 55., 55., 58., 55., 52., 52., 51., 58.,\n",
              "       51., 55., 54., 53., 61., 60., 52., 59., 52., 56., 68., 59., 64.,\n",
              "       54., 57., 54., 55., 55., 55., 60., 51., 60., 55., 61., 63., 55.,\n",
              "       55., 55., 55., 52., 51., 57., 58., 55., 54., 53., 61., 60., 60.,\n",
              "       52., 55., 56., 59., 54., 54., 55., 55., 60., 57., 55., 60., 54.,\n",
              "       60., 60., 61., 63., 55., 55., 52., 55., 51., 58., 55., 54., 60.,\n",
              "       61., 60., 52., 64., 55., 56., 59., 55., 54., 57., 55., 55., 54.,\n",
              "       60., 55., 60., 61., 63., 55., 55., 52., 68., 69., 55., 51., 58.,\n",
              "       55., 54., 53., 61., 52., 60., 56., 67., 55., 68., 61., 60., 53.,\n",
              "       55., 58., 58., 55., 42., 55., 53., 73., 57., 51., 44., 51., 30.,\n",
              "       45., 60., 54., 55., 55., 60., 55., 45., 56., 55., 59., 59., 54.,\n",
              "       76., 54., 54., 61., 52., 51., 42., 51., 60., 54., 73., 55., 60.,\n",
              "       60., 56., 56., 54., 56., 61., 61., 59., 55., 61., 52., 54., 60.,\n",
              "       55., 54., 55., 56., 55., 76., 60., 56., 55., 31., 35., 60., 44.,\n",
              "       51., 36., 36., 56., 51., 55., 55., 55., 58., 55., 55., 62., 57.,\n",
              "       55., 55., 55., 51., 60., 58., 63., 55., 55., 60., 61., 63., 61.,\n",
              "       51., 53., 51., 62., 60., 60., 61., 51., 50., 26., 50., 50., 35.,\n",
              "       34., 28., 35., 40., 35., 65., 54., 54., 50., 30., 64., 50., 60.,\n",
              "       30., 75., 50., 48., 70., 52., 20., 51., 65., 54., 64., 60., 75.,\n",
              "       58., 55., 55., 62., 57., 55., 55., 28., 71., 31., 30., 38., 54.])"
            ]
          },
          "metadata": {
            "tags": []
          },
          "execution_count": 29
        }
      ]
    },
    {
      "cell_type": "code",
      "metadata": {
        "id": "z5UtJLZlJvkc",
        "colab": {
          "base_uri": "https://localhost:8080/",
          "height": 282
        },
        "outputId": "5674a615-de04-4c78-fb80-c6cb02be1a32"
      },
      "source": [
        "plt.scatter(x[y_kmeans == 0, 0], x[y_kmeans == 0, 1], s = 100, c = 'green', label = 'NO D')\n",
        "plt.scatter(x[y_kmeans == 1, 0], x[y_kmeans == 1, 1], s = 100, c = 'red', label = 'D')\n",
        "plt.scatter(x[y_kmeans == 2, 0], x[y_kmeans == 2, 1], s = 100, c = 'orange', label = 'P D')\n",
        "\n",
        "#Plotting the centroids of the clusters\n",
        "# plt.scatter(kmeans.cluster_centers_[:, 0], kmeans.cluster_centers_[:,1], s = 100, c = 'blue', label = 'Centroids')\n",
        "\n",
        "plt.legend()"
      ],
      "execution_count": null,
      "outputs": [
        {
          "output_type": "execute_result",
          "data": {
            "text/plain": [
              "<matplotlib.legend.Legend at 0x7f81c230b0d0>"
            ]
          },
          "metadata": {
            "tags": []
          },
          "execution_count": 24
        },
        {
          "output_type": "display_data",
          "data": {
            "image/png": "[encoded data removed]",
            "text/plain": [
              "<Figure size 432x288 with 1 Axes>"
            ]
          },
          "metadata": {
            "tags": [],
            "needs_background": "light"
          }
        }
      ]
    },
    {
      "cell_type": "code",
      "metadata": {
        "id": "cAVE2Vvnfam8"
      },
      "source": [
        ""
      ],
      "execution_count": null,
      "outputs": []
    }
  ]
}