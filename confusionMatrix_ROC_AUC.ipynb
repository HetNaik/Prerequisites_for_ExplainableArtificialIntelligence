{
  "nbformat": 4,
  "nbformat_minor": 0,
  "metadata": {
    "colab": {
      "name": "confusionMatrix_ROC_AUC.ipynb",
      "provenance": [],
      "collapsed_sections": []
    },
    "kernelspec": {
      "name": "python3",
      "display_name": "Python 3"
    }
  },
  "cells": [
    {
      "cell_type": "markdown",
      "metadata": {
        "id": "joJV4qgvanUI"
      },
      "source": [
        "# ConfusionMatrix, ROC, AUC, MAE, RMSE\n",
        "##By Het Naik, CE18\n",
        "\n",
        "###I have taken the example of symtomatic and asymtomatic patients, and their COVID19 results, and analysed the data accordingly "
      ]
    },
    {
      "cell_type": "code",
      "metadata": {
        "id": "N7c9eLS73mqd",
        "colab": {
          "base_uri": "https://localhost:8080/",
          "height": 202
        },
        "outputId": "c1f329e2-7c63-4f7f-a242-2a7ac9cc290d"
      },
      "source": [
        "try:\n",
        "    import pycm\n",
        "except:\n",
        "    !pip install -q pycm\n",
        "    import pycm\n",
        "from pycm import *\n",
        "!pip install scikit-plot\n",
        "from __future__ import absolute_import\n",
        "import matplotlib.pyplot as plt\n",
        "from sklearn.naive_bayes import GaussianNB\n",
        "from sklearn.datasets import load_digits as load_data\n",
        "import scikitplot as skplt\n",
        "from sklearn import metrics\n",
        "from sklearn.metrics import mean_squared_error\n",
        "from math import sqrt\n",
        "from sklearn.metrics import mean_absolute_error\n"
      ],
      "execution_count": null,
      "outputs": [
        {
          "output_type": "stream",
          "text": [
            "Requirement already satisfied: scikit-plot in /usr/local/lib/python3.6/dist-packages (0.3.7)\n",
            "Requirement already satisfied: joblib>=0.10 in /usr/local/lib/python3.6/dist-packages (from scikit-plot) (0.15.1)\n",
            "Requirement already satisfied: matplotlib>=1.4.0 in /usr/local/lib/python3.6/dist-packages (from scikit-plot) (3.2.2)\n",
            "Requirement already satisfied: scipy>=0.9 in /usr/local/lib/python3.6/dist-packages (from scikit-plot) (1.4.1)\n",
            "Requirement already satisfied: scikit-learn>=0.18 in /usr/local/lib/python3.6/dist-packages (from scikit-plot) (0.22.2.post1)\n",
            "Requirement already satisfied: cycler>=0.10 in /usr/local/lib/python3.6/dist-packages (from matplotlib>=1.4.0->scikit-plot) (0.10.0)\n",
            "Requirement already satisfied: numpy>=1.11 in /usr/local/lib/python3.6/dist-packages (from matplotlib>=1.4.0->scikit-plot) (1.18.5)\n",
            "Requirement already satisfied: kiwisolver>=1.0.1 in /usr/local/lib/python3.6/dist-packages (from matplotlib>=1.4.0->scikit-plot) (1.2.0)\n",
            "Requirement already satisfied: python-dateutil>=2.1 in /usr/local/lib/python3.6/dist-packages (from matplotlib>=1.4.0->scikit-plot) (2.8.1)\n",
            "Requirement already satisfied: pyparsing!=2.0.4,!=2.1.2,!=2.1.6,>=2.0.1 in /usr/local/lib/python3.6/dist-packages (from matplotlib>=1.4.0->scikit-plot) (2.4.7)\n",
            "Requirement already satisfied: six in /usr/local/lib/python3.6/dist-packages (from cycler>=0.10->matplotlib>=1.4.0->scikit-plot) (1.12.0)\n"
          ],
          "name": "stdout"
        }
      ]
    },
    {
      "cell_type": "markdown",
      "metadata": {
        "id": "3iRSrzM_389V"
      },
      "source": [
        "## 1 Confusion Matrix\n",
        "Description:\n",
        "\n",
        "\n",
        "I have taken COVID19 testing example as it seems fairly relevant at this point of time, here we can visualize and analyze the data of the patients who were asymtomatic and still got Corona.\n",
        "\n",
        "P.S. PyCM is a gem for this type of data visualization"
      ]
    },
    {
      "cell_type": "code",
      "metadata": {
        "id": "E5oVoILd6x_U",
        "colab": {
          "base_uri": "https://localhost:8080/",
          "height": 1000
        },
        "outputId": "46312b24-5125-4511-a1bf-f1788b5c198d"
      },
      "source": [
        "COVID19_TestResult = [1, 1, 1, 1, 0, 1, 1, 0, 1, 0, 1, 1, 1, 1, 1, 1, 0, 1, 1, 0, 1, 0, 1, 1] \n",
        "COVID19_Symtomatic = [1, 0, 1, 1, 0, 1, 1, 0, 1, 0, 1, 0, 1, 0, 1, 1, 0, 1, 1, 0, 1, 0, 1, 0] \n",
        "ConMat = ConfusionMatrix(actual_vector=COVID19_TestResult, predict_vector=COVID19_Symtomatic) # Create CM From Data\n",
        "print(ConMat)"
      ],
      "execution_count": null,
      "outputs": [
        {
          "output_type": "stream",
          "text": [
            "Predict  0        1        \n",
            "Actual\n",
            "0        6        0        \n",
            "\n",
            "1        4        14       \n",
            "\n",
            "\n",
            "\n",
            "\n",
            "\n",
            "Overall Statistics : \n",
            "\n",
            "95% CI                                                            (0.68423,0.98244)\n",
            "ACC Macro                                                         0.83333\n",
            "ARI                                                               0.42211\n",
            "AUNP                                                              0.88889\n",
            "AUNU                                                              0.88889\n",
            "Bangdiwala B                                                      0.74359\n",
            "Bennett S                                                         0.66667\n",
            "CBA                                                               0.68889\n",
            "CSI                                                               0.68889\n",
            "Chi-Squared                                                       11.2\n",
            "Chi-Squared DF                                                    1\n",
            "Conditional Entropy                                               0.57315\n",
            "Cramer V                                                          0.68313\n",
            "Cross Entropy                                                     0.89896\n",
            "F1 Macro                                                          0.8125\n",
            "F1 Micro                                                          0.83333\n",
            "FNR Macro                                                         0.11111\n",
            "FNR Micro                                                         0.16667\n",
            "FPR Macro                                                         0.11111\n",
            "FPR Micro                                                         0.16667\n",
            "Gwet AC1                                                          0.7\n",
            "Hamming Loss                                                      0.16667\n",
            "Joint Entropy                                                     1.38443\n",
            "KL Divergence                                                     0.08769\n",
            "Kappa                                                             0.63636\n",
            "Kappa 95% CI                                                      (0.31105,0.96168)\n",
            "Kappa No Prevalence                                               0.66667\n",
            "Kappa Standard Error                                              0.16598\n",
            "Kappa Unbiased                                                    0.625\n",
            "Lambda A                                                          0.33333\n",
            "Lambda B                                                          0.6\n",
            "Mutual Information                                                0.40672\n",
            "NIR                                                               0.75\n",
            "Overall ACC                                                       0.83333\n",
            "Overall CEN                                                       0.41667\n",
            "Overall J                                                         (1.37778,0.68889)\n",
            "Overall MCC                                                       0.68313\n",
            "Overall MCEN                                                      0.29099\n",
            "Overall RACC                                                      0.54167\n",
            "Overall RACCU                                                     0.55556\n",
            "P-Value                                                           0.24665\n",
            "PPV Macro                                                         0.8\n",
            "PPV Micro                                                         0.83333\n",
            "Pearson C                                                         0.56408\n",
            "Phi-Squared                                                       0.46667\n",
            "RCI                                                               0.50133\n",
            "RR                                                                12.0\n",
            "Reference Entropy                                                 0.81128\n",
            "Response Entropy                                                  0.97987\n",
            "SOA1(Landis & Koch)                                               Substantial\n",
            "SOA2(Fleiss)                                                      Intermediate to Good\n",
            "SOA3(Altman)                                                      Good\n",
            "SOA4(Cicchetti)                                                   Good\n",
            "SOA5(Cramer)                                                      Strong\n",
            "SOA6(Matthews)                                                    Moderate\n",
            "Scott PI                                                          0.625\n",
            "Standard Error                                                    0.07607\n",
            "TNR Macro                                                         0.88889\n",
            "TNR Micro                                                         0.83333\n",
            "TPR Macro                                                         0.88889\n",
            "TPR Micro                                                         0.83333\n",
            "Zero-one Loss                                                     4\n",
            "\n",
            "Class Statistics :\n",
            "\n",
            "Classes                                                           0             1             \n",
            "ACC(Accuracy)                                                     0.83333       0.83333       \n",
            "AGF(Adjusted F-score)                                             0.9136        0.72859       \n",
            "AGM(Adjusted geometric mean)                                      0.83729       0.90553       \n",
            "AM(Difference between automatic and manual classification)        4             -4            \n",
            "AUC(Area under the ROC curve)                                     0.88889       0.88889       \n",
            "AUCI(AUC value interpretation)                                    Very Good     Very Good     \n",
            "AUPR(Area under the PR curve)                                     0.8           0.88889       \n",
            "BCD(Bray-Curtis dissimilarity)                                    0.08333       0.08333       \n",
            "BM(Informedness or bookmaker informedness)                        0.77778       0.77778       \n",
            "CEN(Confusion entropy)                                            0.5           0.375         \n",
            "DOR(Diagnostic odds ratio)                                        None          None          \n",
            "DP(Discriminant power)                                            None          None          \n",
            "DPI(Discriminant power interpretation)                            None          None          \n",
            "ERR(Error rate)                                                   0.16667       0.16667       \n",
            "F0.5(F0.5 score)                                                  0.65217       0.94595       \n",
            "F1(F1 score - harmonic mean of precision and sensitivity)         0.75          0.875         \n",
            "F2(F2 score)                                                      0.88235       0.81395       \n",
            "FDR(False discovery rate)                                         0.4           0.0           \n",
            "FN(False negative/miss/type 2 error)                              0             4             \n",
            "FNR(Miss rate or false negative rate)                             0.0           0.22222       \n",
            "FOR(False omission rate)                                          0.0           0.4           \n",
            "FP(False positive/type 1 error/false alarm)                       4             0             \n",
            "FPR(Fall-out or false positive rate)                              0.22222       0.0           \n",
            "G(G-measure geometric mean of precision and sensitivity)          0.7746        0.88192       \n",
            "GI(Gini index)                                                    0.77778       0.77778       \n",
            "GM(G-mean geometric mean of specificity and sensitivity)          0.88192       0.88192       \n",
            "IBA(Index of balanced accuracy)                                   0.95062       0.60494       \n",
            "ICSI(Individual classification success index)                     0.6           0.77778       \n",
            "IS(Information score)                                             1.26303       0.41504       \n",
            "J(Jaccard index)                                                  0.6           0.77778       \n",
            "LS(Lift score)                                                    2.4           1.33333       \n",
            "MCC(Matthews correlation coefficient)                             0.68313       0.68313       \n",
            "MCCI(Matthews correlation coefficient interpretation)             Moderate      Moderate      \n",
            "MCEN(Modified confusion entropy)                                  0.52877       0.48221       \n",
            "MK(Markedness)                                                    0.6           0.6           \n",
            "N(Condition negative)                                             18            6             \n",
            "NLR(Negative likelihood ratio)                                    0.0           0.22222       \n",
            "NLRI(Negative likelihood ratio interpretation)                    Good          Poor          \n",
            "NPV(Negative predictive value)                                    1.0           0.6           \n",
            "OC(Overlap coefficient)                                           1.0           1.0           \n",
            "OOC(Otsuka-Ochiai coefficient)                                    0.7746        0.88192       \n",
            "OP(Optimized precision)                                           0.70833       0.70833       \n",
            "P(Condition positive or support)                                  6             18            \n",
            "PLR(Positive likelihood ratio)                                    4.5           None          \n",
            "PLRI(Positive likelihood ratio interpretation)                    Poor          None          \n",
            "POP(Population)                                                   24            24            \n",
            "PPV(Precision or positive predictive value)                       0.6           1.0           \n",
            "PRE(Prevalence)                                                   0.25          0.75          \n",
            "Q(Yule Q - coefficient of colligation)                            None          None          \n",
            "QI(Yule Q interpretation)                                         None          None          \n",
            "RACC(Random accuracy)                                             0.10417       0.4375        \n",
            "RACCU(Random accuracy unbiased)                                   0.11111       0.44444       \n",
            "TN(True negative/correct rejection)                               14            6             \n",
            "TNR(Specificity or true negative rate)                            0.77778       1.0           \n",
            "TON(Test outcome negative)                                        14            10            \n",
            "TOP(Test outcome positive)                                        10            14            \n",
            "TP(True positive/hit)                                             6             14            \n",
            "TPR(Sensitivity, recall, hit rate, or true positive rate)         1.0           0.77778       \n",
            "Y(Youden index)                                                   0.77778       0.77778       \n",
            "dInd(Distance index)                                              0.22222       0.22222       \n",
            "sInd(Similarity index)                                            0.84287       0.84287       \n",
            "\n"
          ],
          "name": "stdout"
        }
      ]
    },
    {
      "cell_type": "code",
      "metadata": {
        "id": "bshIQ03y7kuI",
        "colab": {
          "base_uri": "https://localhost:8080/",
          "height": 345
        },
        "outputId": "0e37a4a1-833c-4eb1-a7bf-e41bf2057089"
      },
      "source": [
        "def plot_confusion_matrix(df_confusion, title='Confusion matrix', cmap=plt.cm.gray_r):\n",
        "    plt.matshow(df_confusion, cmap='Blues') # imshow\n",
        "    #plt.title(title)\n",
        "    plt.colorbar()\n",
        "    tick_marks = np.arange(len(df_confusion.columns))\n",
        "    plt.xticks(tick_marks, df_confusion.columns, rotation=45)\n",
        "    plt.yticks(tick_marks, df_confusion.index)\n",
        "    #plt.tight_layout()\n",
        "    plt.ylabel(df_confusion.index.name)\n",
        "    plt.xlabel(df_confusion.columns.name)\n",
        "\n",
        "COVID19_TestResult =  pd.Series([1, 1, 1, 1, 0, 1, 1, 0, 1, 0, 1, 1, 1, 1, 1, 1, 0, 1, 1, 0, 1, 0, 1, 1],name='Result') \n",
        "COVID19_Symtomatic =  pd.Series([1, 0, 1, 1, 0, 1, 1, 0, 1, 0, 1, 0, 1, 0, 1, 1, 0, 1, 1, 0, 1, 0, 1, 0],name='Symtomatic') \n",
        "COVID19 = pd.crosstab(COVID19_TestResult, COVID19_Symtomatic, rownames=['Result'], colnames=['Symptomatic'], margins=True)\n",
        "print(COVID19)\n",
        "plot_confusion_matrix(COVID19)"
      ],
      "execution_count": null,
      "outputs": [
        {
          "output_type": "stream",
          "text": [
            "Symptomatic   0   1  All\n",
            "Result                  \n",
            "0             6   0    6\n",
            "1             4  14   18\n",
            "All          10  14   24\n"
          ],
          "name": "stdout"
        },
        {
          "output_type": "display_data",
          "data": {
            "image/png": "[encoded data removed]",
            "text/plain": [
              "<Figure size 288x288 with 2 Axes>"
            ]
          },
          "metadata": {
            "tags": [],
            "needs_background": "light"
          }
        }
      ]
    },
    {
      "cell_type": "markdown",
      "metadata": {
        "id": "yOBDJ4FoKbu3"
      },
      "source": [
        "## 2 ROC curve, AUC score\n",
        "Description:\n",
        "\n",
        "1 In the first example, I have used my own dataset as given in the above task.\n",
        "The AUC score is around 87 which is not that bad.\n",
        "\n",
        "2 In the second example, I have taken the load_digits datasets from sklearn"
      ]
    },
    {
      "cell_type": "code",
      "metadata": {
        "id": "GYAzKjGhK35Z",
        "colab": {
          "base_uri": "https://localhost:8080/",
          "height": 312
        },
        "outputId": "60a9d32b-3c3e-49bb-a5db-0338d547db7f"
      },
      "source": [
        "COVID19_TestResult = [1, 1, 1, 1, 0, 1, 1, 0, 1, 0, 1, 1, 1, 1, 1, 1, 0, 1, 1, 0, 1, 0, 1, 0,1, 0, 1, 1, 0, 1, 1, 0, 1, 0, 1, 0, 1, 1, 1, 1, 0, 1, 1, 0, 1, 0, 1, 0,1, 0, 1, 1, 0, 1, 1, 0, 1, 0, 1, 1, 1, 1, 1, 1, 0, 1, 1, 0, 1, 0, 1, 1,1, 1, 1, 1, 0, 1, 1, 0, 1, 0, 1, 1, 1, 1, 1, 1, 0, 1, 1, 0, 1, 0, 1, 1,] \n",
        "COVID19_Symtomatic = [1, 0, 1, 1, 0, 1, 1, 0, 1, 0, 1, 1, 1, 0, 1, 1, 0, 1, 1, 0, 1, 0, 1, 0,1, 0, 1, 1, 0, 1, 1, 0, 1, 0, 1, 0, 1, 0, 1, 1, 0, 1, 1, 0, 1, 0, 1, 0,1, 0, 1, 1, 0, 1, 1, 0, 1, 0, 1, 0, 1, 0, 1, 1, 0, 1, 1, 0, 1, 0, 1, 0,1, 0, 1, 1, 0, 1, 1, 0, 1, 0, 1, 0, 1, 0, 1, 1, 0, 1, 1, 0, 1, 0, 1, 0,]\n",
        "fpr, tpr, thresholds = metrics.roc_curve(COVID19_Symtomatic,COVID19_TestResult)\n",
        "plt.plot(fpr, tpr)\n",
        "plt.xlim([0.0, 1.0])\n",
        "plt.ylim([0.0, 1.0])\n",
        "plt.title('ROC curve for COVID19')\n",
        "plt.xlabel('False Positive Rate (1 - Specificity)')\n",
        "plt.ylabel('True Positive Rate (Sensitivity)')\n",
        "plt.grid(True)\n",
        "print(\"AUC SCORE :\",metrics.roc_auc_score(COVID19_Symtomatic,COVID19_TestResult))"
      ],
      "execution_count": null,
      "outputs": [
        {
          "output_type": "stream",
          "text": [
            "AUC SCORE : 0.8717948717948718\n"
          ],
          "name": "stdout"
        },
        {
          "output_type": "display_data",
          "data": {
            "image/png": "[encoded data removed]",
            "text/plain": [
              "<Figure size 432x288 with 1 Axes>"
            ]
          },
          "metadata": {
            "tags": [],
            "needs_background": "light"
          }
        }
      ]
    },
    {
      "cell_type": "code",
      "metadata": {
        "id": "x83JSbZWMsHU",
        "colab": {
          "base_uri": "https://localhost:8080/",
          "height": 295
        },
        "outputId": "cf6551af-80eb-45fd-d0b1-df2107f79847"
      },
      "source": [
        "X, y = load_data(return_X_y=True)\n",
        "nb = GaussianNB()\n",
        "nb.fit(X, y)\n",
        "probas = nb.predict_proba(X)\n",
        "skplt.metrics.plot_roc(y_true=y, y_probas=probas)\n",
        "plt.show()\n",
        "#print(metrics.roc_auc_score(y, probas))"
      ],
      "execution_count": null,
      "outputs": [
        {
          "output_type": "display_data",
          "data": {
            "image/png": "[encoded data removed]",
            "text/plain": [
              "<Figure size 432x288 with 1 Axes>"
            ]
          },
          "metadata": {
            "tags": [],
            "needs_background": "light"
          }
        }
      ]
    },
    {
      "cell_type": "markdown",
      "metadata": {
        "id": "PaikGUIBRpO2"
      },
      "source": [
        "## 3 Mean Absolute Error\n",
        "Description:\n",
        "\n",
        "Nothing much to discuss, just applied MAE to my dataset"
      ]
    },
    {
      "cell_type": "code",
      "metadata": {
        "id": "i2eHymA6Ry8M",
        "colab": {
          "base_uri": "https://localhost:8080/",
          "height": 34
        },
        "outputId": "c33dbe45-e025-4acf-d0f8-064cf7c6f91a"
      },
      "source": [
        "mean_absolute_error(COVID19_TestResult,COVID19_Symtomatic)"
      ],
      "execution_count": null,
      "outputs": [
        {
          "output_type": "execute_result",
          "data": {
            "text/plain": [
              "0.10416666666666667"
            ]
          },
          "metadata": {
            "tags": []
          },
          "execution_count": 76
        }
      ]
    },
    {
      "cell_type": "markdown",
      "metadata": {
        "id": "z5EopLlXWtHA"
      },
      "source": [
        "## 4 Root Mean Squared Error\n",
        "Description:\n",
        "\n",
        "Nothing much to discuss, just applied RMSE to my dataset"
      ]
    },
    {
      "cell_type": "code",
      "metadata": {
        "id": "f2wQhLWjWMxX",
        "colab": {
          "base_uri": "https://localhost:8080/",
          "height": 34
        },
        "outputId": "b0b6dc37-4ff0-46a2-93c0-97518453bb52"
      },
      "source": [
        "sqrt(mean_squared_error(COVID19_Symtomatic,COVID19_TestResult,squared=False)) # squared - True returns MSE value, False returns RMSE value"
      ],
      "execution_count": null,
      "outputs": [
        {
          "output_type": "execute_result",
          "data": {
            "text/plain": [
              "0.5681096832337497"
            ]
          },
          "metadata": {
            "tags": []
          },
          "execution_count": 74
        }
      ]
    }
  ]
}